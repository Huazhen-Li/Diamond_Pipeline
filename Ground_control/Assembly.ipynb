{
 "cells": [
  {
   "cell_type": "code",
   "execution_count": null,
   "metadata": {},
   "outputs": [],
   "source": [
    "# ==== Clean and copy files from Garfield_workplace to Garfield_satellite ====\n",
    "import shutil\n",
    "import os\n",
    "\n",
    "# Clean Garfield_satellite directory\n",
    "if os.path.exists(\"Garfield_satellite\"):\n",
    "    shutil.rmtree(\"Garfield_satellite\")\n",
    "    print(\"Cleaned Garfield_satellite directory\")\n",
    "\n",
    "# Create fresh Garfield_satellite directory\n",
    "os.makedirs(\"Garfield_satellite\")\n",
    "\n",
    "# Files to copy from Garfield_workplace\n",
    "files_to_copy = [\"Diamond_4p.C\", \"CMakeLists.txt\", \"transfer.csv\"]\n",
    "\n",
    "# Copy each file from Garfield_workplace\n",
    "for file in files_to_copy:\n",
    "    source_path = os.path.join(\"Garfield_workplace\", file)\n",
    "    if os.path.exists(source_path):\n",
    "        shutil.copy2(source_path, os.path.join(\"Garfield_satellite\", file))\n",
    "        print(f\"Copied {file} from Garfield_workplace to Garfield_satellite/\")\n",
    "    else:\n",
    "        print(f\"Warning: {file} not found in Garfield_workplace\")"
   ]
  }
 ],
 "metadata": {
  "kernelspec": {
   "display_name": "huazhen",
   "language": "python",
   "name": "python3"
  },
  "language_info": {
   "name": "python",
   "version": "3.13.3"
  }
 },
 "nbformat": 4,
 "nbformat_minor": 2
}
