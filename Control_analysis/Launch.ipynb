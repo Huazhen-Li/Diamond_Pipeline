{
 "cells": [
  {
   "cell_type": "code",
   "execution_count": null,
   "metadata": {},
   "outputs": [],
   "source": [
    "import paramiko\n",
    "from scp import SCPClient\n",
    "\n",
    "# ==== Variables to configure ====\n",
    "num_evt_perjob = 1000\n",
    "num_job = 55\n",
    "\n",
    "local_file = \"Garfield_satellite\"  # Local file path\n",
    "remote_path = \"/tmp/\"      # Remote target path (on server)\n",
    "bash_command = f\"cd /tmp/Garfield_satellite/build && cmake .. && make && source submit.sh {num_evt_perjob} {num_job}\"  # Command to execute\n",
    "\n",
    "server = \"tcad01.hep.manchester.ac.uk\"     # Remote host\n",
    "username = \"lihuazhen\"     # Username\n",
    "# If using SSH key (default ~/.ssh/id_rsa), password is not required\n",
    "\n",
    "# ==== Establish SSH connection ====\n",
    "ssh = paramiko.SSHClient()\n",
    "ssh.set_missing_host_key_policy(paramiko.AutoAddPolicy())\n",
    "ssh.connect(server, username=username)\n",
    "\n",
    "# ==== Upload file ====\n",
    "with SCPClient(ssh.get_transport()) as scp:\n",
    "    scp.put(local_file, remote_path)\n",
    "\n",
    "# ==== Execute remote command ====\n",
    "stdin, stdout, stderr = ssh.exec_command(bash_command)\n",
    "\n",
    "# ==== Print output results ====\n",
    "print(\">> STDOUT:\")\n",
    "print(stdout.read().decode())\n",
    "\n",
    "print(\">> STDERR:\")\n",
    "print(stderr.read().decode())\n",
    "\n",
    "ssh.close()\n"
   ]
  }
 ],
 "metadata": {
  "kernelspec": {
   "display_name": "huazhen",
   "language": "python",
   "name": "python3"
  },
  "language_info": {
   "name": "python",
   "version": "3.13.3"
  }
 },
 "nbformat": 4,
 "nbformat_minor": 2
}
